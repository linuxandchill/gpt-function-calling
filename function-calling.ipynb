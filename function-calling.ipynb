{
 "cells": [
  {
   "cell_type": "code",
   "execution_count": null,
   "id": "45bc3273",
   "metadata": {},
   "outputs": [],
   "source": [
    "import openai\n",
    "import json\n",
    "import requests\n",
    "import pprint\n",
    "\n",
    "def get_stock_quote(symbol):\n",
    "    \"\"\"Get info from stock symbol provided\"\"\"\n",
    "\n",
    "    url = f'https://www.alphavantage.co/query?function=GLOBAL_QUOTE&symbol={symbol}&apikey={ALPHA_KEY}'\n",
    "    r = requests.get(url)\n",
    "    data = r.json()\n",
    "    return str(data)\n",
    "\n",
    "# Step 1, send model the user query and what functions it has access to\n",
    "def run_conversation():\n",
    "    response = openai.ChatCompletion.create(\n",
    "        model=\"gpt-3.5-turbo-0613\",\n",
    "        messages=[{\"role\": \"user\", \"content\": \"Give me some information about AAPL stock price\"}],\n",
    "        functions=[\n",
    "            {\n",
    "                \"name\": \"get_stock_quote\",\n",
    "                \"description\": \"Get the info about a stock price\",\n",
    "                \"parameters\": {\n",
    "                    \"type\": \"object\",\n",
    "                    \"properties\": {\n",
    "                        \"symbol\": {\n",
    "                            \"type\": \"string\",\n",
    "                            \"description\": \"The ticker symbol, e.g. AAPL\",\n",
    "                        },\n",
    "                    },\n",
    "                    \"required\": [\"symbol\"],\n",
    "                },\n",
    "            }\n",
    "        ],\n",
    "        function_call=\"auto\",\n",
    "    )\n",
    "\n",
    "    message = response[\"choices\"][0][\"message\"]\n",
    "\n",
    "    # Step 2, check if the model wants to call a function\n",
    "    if message.get(\"function_call\"):\n",
    "        function_name = message[\"function_call\"][\"name\"]\n",
    "        function_args = json.loads(message[\"function_call\"][\"arguments\"])\n",
    "\n",
    "        # Step 3, call the function\n",
    "        function_response = get_stock_quote(\n",
    "            symbol=function_args.get(\"symbol\"),\n",
    "        )\n",
    "\n",
    "        # Step 4, send model the info on the function call and function response\n",
    "        second_response = openai.ChatCompletion.create(\n",
    "            model=\"gpt-3.5-turbo-0613\",\n",
    "            messages=[\n",
    "                {\"role\": \"user\", \"content\": \"Give me some information about AAPL stock price\"},\n",
    "                message,\n",
    "                {\n",
    "                    \"role\": \"function\",\n",
    "                    \"name\": function_name,\n",
    "                    \"content\": function_response,\n",
    "                },\n",
    "            ],\n",
    "        )\n",
    "        return second_response\n",
    "\n",
    "print(run_conversation())\n"
   ]
  },
  {
   "cell_type": "markdown",
   "id": "2d4bda51",
   "metadata": {},
   "source": [
    "## You can describe functions to GPT, and have the model intelligently choose to output a JSON object containing arguments to call those functions"
   ]
  },
  {
   "cell_type": "markdown",
   "id": "9a80c3ef",
   "metadata": {},
   "source": [
    "## The Chat Completions API does not call the function; instead, the model generates JSON that you can use to call the function in your code."
   ]
  },
  {
   "cell_type": "markdown",
   "id": "5b17814b",
   "metadata": {},
   "source": [
    "### 1. Call the model with the user query and a set of functions defined in the functions parameter.\n",
    "### 2. The model can choose to call a function; if so, the content will be a stringified JSON object adhering to your custom schema (note: the model may generate invalid JSON or hallucinate parameters).\n",
    "### 3. Parse the string into JSON in your code, and call your function with the provided arguments if they exist.\n",
    "### 4. Call the model again by appending the function response as a new message, and let the model summarize the results back to the user."
   ]
  },
  {
   "cell_type": "code",
   "execution_count": null,
   "id": "6c62bf93",
   "metadata": {},
   "outputs": [],
   "source": [
    "def get_current_weather(location, unit=\"fahrenheit\"):\n",
    "    \"\"\"Get the current weather in a given location\"\"\"\n",
    "    weather_info = {\n",
    "        \"location\": location,\n",
    "        \"temperature\": \"72\",\n",
    "        \"unit\": unit,\n",
    "        \"forecast\": [\"sunny\", \"windy\"],\n",
    "    }\n",
    "    return json.dumps(weather_info)\n",
    "print(type(get_current_weather('boston')))"
   ]
  },
  {
   "cell_type": "code",
   "execution_count": null,
   "id": "f3a2134c",
   "metadata": {},
   "outputs": [],
   "source": [
    "print(type(get_current_weather('boston')))"
   ]
  },
  {
   "cell_type": "code",
   "execution_count": null,
   "id": "63524355",
   "metadata": {},
   "outputs": [],
   "source": [
    "import openai\n",
    "import json\n",
    "\n",
    "def get_current_weather(location, unit=\"fahrenheit\"):\n",
    "    \"\"\"Get the current weather in a given location\"\"\"\n",
    "    weather_info = {\n",
    "        \"location\": location,\n",
    "        \"temperature\": \"72\",\n",
    "        \"unit\": unit,\n",
    "        \"forecast\": [\"sunny\", \"windy\"],\n",
    "    }\n",
    "    return json.dumps(weather_info)\n",
    "\n",
    "def run_conversation():\n",
    "    response = openai.ChatCompletion.create(\n",
    "        model=\"gpt-3.5-turbo-0613\",\n",
    "        messages=[{\"role\": \"user\", \"content\": \"What's the weather like in Boston?\"}],\n",
    "        functions=[\n",
    "            {\n",
    "                \"name\": \"get_current_weather\",\n",
    "                \"description\": \"Get the current weather in a given location\",\n",
    "                \"parameters\": {\n",
    "                    \"type\": \"object\",\n",
    "                    \"properties\": {\n",
    "                        \"location\": {\n",
    "                            \"type\": \"string\",\n",
    "                            \"description\": \"The city and state, e.g. San Francisco, CA\",\n",
    "                        },\n",
    "                        \"unit\": {\"type\": \"string\", \"enum\": [\"celsius\", \"fahrenheit\"]},\n",
    "                    },\n",
    "                    \"required\": [\"location\"],\n",
    "                },\n",
    "            }\n",
    "        ],\n",
    "        function_call=\"auto\",\n",
    "    )\n",
    "    \n",
    "    return response"
   ]
  },
  {
   "cell_type": "code",
   "execution_count": null,
   "id": "16fe4429",
   "metadata": {},
   "outputs": [],
   "source": [
    "message = run_conversation()"
   ]
  },
  {
   "cell_type": "code",
   "execution_count": null,
   "id": "89ef6652",
   "metadata": {},
   "outputs": [],
   "source": [
    "message"
   ]
  },
  {
   "cell_type": "code",
   "execution_count": null,
   "id": "b8fb650d",
   "metadata": {},
   "outputs": [],
   "source": [
    "message = run_conversation()[\"choices\"][0][\"message\"]"
   ]
  },
  {
   "cell_type": "code",
   "execution_count": null,
   "id": "8f9fbb87",
   "metadata": {},
   "outputs": [],
   "source": [
    "message"
   ]
  },
  {
   "cell_type": "code",
   "execution_count": null,
   "id": "6379f8c6",
   "metadata": {},
   "outputs": [],
   "source": [
    "# Does model wants to call a function????\n",
    "if message.get(\"function_call\"):\n",
    "    function_name = message[\"function_call\"][\"name\"]\n",
    "    function_args = json.loads(message[\"function_call\"][\"arguments\"])\n",
    "\n",
    "    # here we actually call the function\n",
    "    function_response = get_current_weather(\n",
    "        location=function_args.get(\"location\"),\n",
    "        unit=function_args.get(\"unit\"),\n",
    "    )\n",
    "\n",
    "    # Step 4, send model the info on the function call and function response\n",
    "    final_response = openai.ChatCompletion.create(\n",
    "        model=\"gpt-3.5-turbo-0613\",\n",
    "        messages=[\n",
    "            {\"role\": \"user\", \"content\": \"What is the weather like in boston?\"},\n",
    "            message,\n",
    "            {\n",
    "                \"role\": \"function\",\n",
    "                \"name\": function_name,\n",
    "                \"content\": function_response,\n",
    "            },\n",
    "        ],\n",
    "    )\n",
    "    print(final_response)"
   ]
  },
  {
   "cell_type": "code",
   "execution_count": null,
   "id": "810a3b18",
   "metadata": {},
   "outputs": [],
   "source": []
  }
 ],
 "metadata": {
  "kernelspec": {
   "display_name": "askmoney",
   "language": "python",
   "name": "askmoney"
  },
  "language_info": {
   "codemirror_mode": {
    "name": "ipython",
    "version": 3
   },
   "file_extension": ".py",
   "mimetype": "text/x-python",
   "name": "python",
   "nbconvert_exporter": "python",
   "pygments_lexer": "ipython3",
   "version": "3.9.12"
  }
 },
 "nbformat": 4,
 "nbformat_minor": 5
}
